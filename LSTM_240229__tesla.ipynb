{
  "nbformat": 4,
  "nbformat_minor": 0,
  "metadata": {
    "colab": {
      "provenance": []
    },
    "kernelspec": {
      "name": "python3",
      "display_name": "Python 3"
    },
    "language_info": {
      "name": "python"
    }
  },
  "cells": [
    {
      "cell_type": "code",
      "execution_count": null,
      "metadata": {
        "id": "FFHqM_lUZ_42"
      },
      "outputs": [],
      "source": [
        "# US stock prediction"
      ]
    },
    {
      "cell_type": "markdown",
      "source": [
        "ライブラリ"
      ],
      "metadata": {
        "id": "w5r1sI71jb7c"
      }
    },
    {
      "cell_type": "code",
      "source": [
        "import torch\n",
        "import torch.nn as nn\n",
        "import torch.optim as optim\n",
        "import matplotlib.pyplot as plt\n",
        "import numpy as np\n",
        "import yfinance as yf\n",
        "from sklearn.preprocessing import MinMaxScaler\n",
        "from datetime import datetime\n",
        "\n",
        "# 必要情報の入力\n",
        "start = '2021-01-04'\n",
        "end = '2024-02-01'\n",
        "tickers = 'TSLA'  # 予測対象の株価シンボル\n",
        "seq_length = 5 #周期性がどの程度あるのか？ここをよく見ながら設定すること！！\n",
        "num_test = 2 # 予測日数\n",
        "hidden_size = 200 # 隠れ層数の設定\n",
        "num_epochs = 50 # エポック数の設定\n",
        "\n",
        "\n",
        "# 株価データの取得\n",
        "y = yf.download(tickers, start=start, end=end)[\"Close\"]\n",
        "\n",
        "# データの正規化\n",
        "scaler = MinMaxScaler(feature_range=(0, 1))\n",
        "scaled_data = scaler.fit_transform(y.values.reshape(-1, 1))\n",
        "\n",
        "# ランダムシードの固定化\n",
        "seed_value = 42\n",
        "np.random.seed(seed_value)\n",
        "\n",
        "plt.style.use(\"ggplot\")\n",
        "%matplotlib inline\n",
        "\n",
        "print(f\"start:{start} end:{end} ticker:{tickers}\")\n",
        "\n"
      ],
      "metadata": {
        "id": "7atrN69Fa-U8",
        "colab": {
          "base_uri": "https://localhost:8080/"
        },
        "outputId": "ce97a399-c8a4-4f97-cccb-7beff78bf53e"
      },
      "execution_count": 6,
      "outputs": [
        {
          "output_type": "stream",
          "name": "stderr",
          "text": [
            "\r[*********************100%%**********************]  1 of 1 completed"
          ]
        },
        {
          "output_type": "stream",
          "name": "stdout",
          "text": [
            "start:2021-01-04 end:2024-02-01 ticker:TSLA\n"
          ]
        },
        {
          "output_type": "stream",
          "name": "stderr",
          "text": [
            "\n"
          ]
        }
      ]
    },
    {
      "cell_type": "code",
      "source": [
        "#seq_length=10\n",
        "#num_test=10\n",
        "print(f\"最後尾のデータは{scaled_data[-1]}\")\n",
        "maxnum=len(scaled_data)\n",
        "ii=0\n",
        "jj=0\n",
        "yy=[]\n",
        "for ii in range(seq_length):\n",
        "  #yy=[]\n",
        "  for jj in range(num_test):\n",
        "    yy_value = float(scaled_data[ii+jj-seq_length-num_test+1])\n",
        "    yy.append(yy_value)\n",
        "    #print(f\"count:{ii+jj-seq_length-num_test+2} {yy}\")\n",
        "    jj+=1\n",
        "#print(yy)\n",
        "\n",
        "# yyをtorch.Tensorに変換\n",
        "yy_tensor = torch.tensor(yy)\n",
        "\n",
        "# yy_tensorを表示\n",
        "#print(yy_tensor)\n",
        "\n",
        "# もしくは\n",
        "yy_tensor_reshaped = yy_tensor.view(seq_length,num_test)\n",
        "print(yy_tensor_reshaped)\n"
      ],
      "metadata": {
        "colab": {
          "base_uri": "https://localhost:8080/"
        },
        "id": "g7yWwy6PFhLP",
        "outputId": "3ca0ae6d-26c2-4462-cb2f-9520a902c2c9"
      },
      "execution_count": 27,
      "outputs": [
        {
          "output_type": "stream",
          "name": "stdout",
          "text": [
            "最後尾のデータは[0.26233145]\n",
            "tensor([[0.3304, 0.2469],\n",
            "        [0.2469, 0.2489],\n",
            "        [0.2489, 0.2744],\n",
            "        [0.2744, 0.2766],\n",
            "        [0.2766, 0.2623]])\n"
          ]
        },
        {
          "output_type": "stream",
          "name": "stderr",
          "text": [
            "<ipython-input-27-407733de25c1>:11: DeprecationWarning: Conversion of an array with ndim > 0 to a scalar is deprecated, and will error in future. Ensure you extract a single element from your array before performing this operation. (Deprecated NumPy 1.25.)\n",
            "  yy_value = float(scaled_data[ii+jj-seq_length-num_test+1])\n"
          ]
        }
      ]
    },
    {
      "cell_type": "markdown",
      "source": [
        "教師データ"
      ],
      "metadata": {
        "id": "PXEu1rpVjZD9"
      }
    },
    {
      "cell_type": "code",
      "source": [
        "y= scaled_data\n",
        "y=y.squeeze()\n",
        "allsize = y.shape[0]\n",
        "print(allsize)\n",
        "x = np.linspace(0,allsize-1,allsize)\n",
        "print(y.shape)\n",
        "print(y.shape)"
      ],
      "metadata": {
        "id": "TfS-YshXbBTW",
        "colab": {
          "base_uri": "https://localhost:8080/"
        },
        "outputId": "be6f58de-c96f-4232-c820-939dc2200f70"
      },
      "execution_count": null,
      "outputs": [
        {
          "output_type": "stream",
          "name": "stdout",
          "text": [
            "774\n",
            "(774,)\n",
            "(774,)\n"
          ]
        }
      ]
    },
    {
      "cell_type": "code",
      "source": [
        "plt.plot(x,y)"
      ],
      "metadata": {
        "colab": {
          "base_uri": "https://localhost:8080/",
          "height": 447
        },
        "id": "uxOrTWgGbs2o",
        "outputId": "f9a9b910-2fcf-42fd-a9f1-63acf8210e3c"
      },
      "execution_count": null,
      "outputs": [
        {
          "output_type": "execute_result",
          "data": {
            "text/plain": [
              "[<matplotlib.lines.Line2D at 0x7a28fcee8a90>]"
            ]
          },
          "metadata": {},
          "execution_count": 4
        },
        {
          "output_type": "display_data",
          "data": {
            "text/plain": [
              "<Figure size 640x480 with 1 Axes>"
            ],
            "image/png": "[encoded data removed]"
          },
          "metadata": {}
        }
      ]
    },
    {
      "cell_type": "markdown",
      "source": [
        "窓スライド処理"
      ],
      "metadata": {
        "id": "Pt7DJjOQjeKC"
      }
    },
    {
      "cell_type": "code",
      "source": [
        "def make_sequence_data(y, num_sequence):\n",
        "  num_data = len(y)\n",
        "  seq_data = [] # 4つ刻みのデータを格納する用のリスト\n",
        "  target_data = [] # seq_dataの1つ次のデータを格納する用のリスト\n",
        "  for i in range(num_data - num_sequence):\n",
        "    seq_data.append(y[i : i + num_sequence])\n",
        "    target_data.append(y[i+num_sequence : i + num_sequence + 1])\n",
        "  seq_arr = np.array(seq_data)\n",
        "  target_arr = np.array(target_data)\n",
        "  #return seq_arr, target_arr\n",
        "  return seq_arr.squeeze(), target_arr.squeeze()"
      ],
      "metadata": {
        "id": "Z8WgLbE9buzN"
      },
      "execution_count": null,
      "outputs": []
    },
    {
      "cell_type": "code",
      "source": [
        "y_seq, y_target = make_sequence_data(y , seq_length)"
      ],
      "metadata": {
        "id": "MCIBYnG7esE5"
      },
      "execution_count": null,
      "outputs": []
    },
    {
      "cell_type": "code",
      "source": [
        "y_seq_train = y_seq[:-num_test]\n",
        "y_seq_test = y_seq[-num_test:]\n",
        "y_target_train = y_target[:-num_test]\n",
        "y_target_test = y_target[-num_test:]"
      ],
      "metadata": {
        "id": "WgKFARfGfOkC"
      },
      "execution_count": null,
      "outputs": []
    },
    {
      "cell_type": "code",
      "source": [
        "y_seq_train.shape"
      ],
      "metadata": {
        "colab": {
          "base_uri": "https://localhost:8080/"
        },
        "id": "6P8fvHkhfnAJ",
        "outputId": "048fdf09-e792-42ca-93e2-16584c6807da"
      },
      "execution_count": null,
      "outputs": [
        {
          "output_type": "execute_result",
          "data": {
            "text/plain": [
              "(767, 5)"
            ]
          },
          "metadata": {},
          "execution_count": 8
        }
      ]
    },
    {
      "cell_type": "markdown",
      "source": [
        "pytorch用の処理"
      ],
      "metadata": {
        "id": "goTeuG7zjusa"
      }
    },
    {
      "cell_type": "code",
      "source": [
        "# tensorに変換する\n",
        "y_seq_t = torch.FloatTensor(y_seq_train)\n",
        "y_target_t = torch.FloatTensor(y_target_train)"
      ],
      "metadata": {
        "id": "EEkuwpJ0fqfh"
      },
      "execution_count": null,
      "outputs": []
    },
    {
      "cell_type": "code",
      "source": [
        "y_target_t.shape\n",
        "#y_seq_t.shape"
      ],
      "metadata": {
        "colab": {
          "base_uri": "https://localhost:8080/"
        },
        "id": "PMIZITZjWV5G",
        "outputId": "170b1889-2252-45a6-9ef6-d0fc4d18d9af"
      },
      "execution_count": null,
      "outputs": [
        {
          "output_type": "execute_result",
          "data": {
            "text/plain": [
              "torch.Size([767])"
            ]
          },
          "metadata": {},
          "execution_count": 10
        }
      ]
    },
    {
      "cell_type": "markdown",
      "source": [
        "LSTMの定義\n",
        " #x_last=x[-1]は予測したラストを抽出"
      ],
      "metadata": {
        "id": "CDpgBKQ6jyYz"
      }
    },
    {
      "cell_type": "code",
      "source": [
        "class LSTM(nn.Module):\n",
        "  def __init__(self, hidden_size):\n",
        "    super().__init__()\n",
        "    self.hidden_size = hidden_size\n",
        "    self.lstm = nn.LSTM(input_size = 1,hidden_size = self.hidden_size)\n",
        "    self.linear = nn.Linear(self.hidden_size,1)\n",
        "\n",
        "  def forward(self,x):\n",
        "    x, _ =self.lstm(x)\n",
        "    x_last = x[-1]\n",
        "    x = self.linear(x_last)\n",
        "    return x"
      ],
      "metadata": {
        "id": "dG_qfJ7of5mP"
      },
      "execution_count": null,
      "outputs": []
    },
    {
      "cell_type": "code",
      "source": [
        "model = LSTM(hidden_size)"
      ],
      "metadata": {
        "id": "eTNOREGhgoYW"
      },
      "execution_count": null,
      "outputs": []
    },
    {
      "cell_type": "markdown",
      "source": [
        "Loss関数と最適化アルゴの定義"
      ],
      "metadata": {
        "id": "pV8mYUTrj4So"
      }
    },
    {
      "cell_type": "code",
      "source": [
        "criterion = nn.MSELoss()\n",
        "optimizer = optim.Adam(model.parameters(),lr=0.001)"
      ],
      "metadata": {
        "id": "3L7VJnkqgttu"
      },
      "execution_count": null,
      "outputs": []
    },
    {
      "cell_type": "markdown",
      "source": [
        "LSTMに入力するための処理"
      ],
      "metadata": {
        "id": "4XL7r6eyj-U3"
      }
    },
    {
      "cell_type": "code",
      "source": [
        "# LSTMにインプットする際に先にシーケンス上の軸が来て、つぎにバッチサイズが来る、最後にインプットサイズの軸が来る\n",
        "# y_seq_tの順番が逆であるので入れ替える必要がある"
      ],
      "metadata": {
        "id": "Kk-vxkIzg6Im"
      },
      "execution_count": null,
      "outputs": []
    },
    {
      "cell_type": "code",
      "source": [
        "y_seq_t = y_seq_t.permute(1,0)"
      ],
      "metadata": {
        "id": "KmgicfUJhNW3"
      },
      "execution_count": null,
      "outputs": []
    },
    {
      "cell_type": "code",
      "source": [
        "# 40×450の2次元テンサーなので、1次元にする必要がる\n",
        " # unsqueezeはsqueezeの反対なのでsqueezeは40x450x1を絞って40x450にするがunsqueezeは次元を広げる働きがある。dim=-1にすると最後の列に1を付与できる"
      ],
      "metadata": {
        "id": "niatUuKTh0e8"
      },
      "execution_count": null,
      "outputs": []
    },
    {
      "cell_type": "code",
      "source": [
        "y_seq_t = y_seq_t.unsqueeze(dim=-1)\n",
        "y_target_t = y_target_t.unsqueeze(dim=-1)"
      ],
      "metadata": {
        "id": "ntPCzIEliA9k"
      },
      "execution_count": null,
      "outputs": []
    },
    {
      "cell_type": "code",
      "source": [
        "y_seq_t.shape"
      ],
      "metadata": {
        "id": "28jrWhFiiwM0",
        "colab": {
          "base_uri": "https://localhost:8080/"
        },
        "outputId": "3c66d23f-a4d2-4cff-f47f-4f304c21e077"
      },
      "execution_count": null,
      "outputs": [
        {
          "output_type": "execute_result",
          "data": {
            "text/plain": [
              "torch.Size([5, 767, 1])"
            ]
          },
          "metadata": {},
          "execution_count": 18
        }
      ]
    },
    {
      "cell_type": "markdown",
      "source": [
        "学習トレーニング\n",
        "ミニバッチのランニングLossを初期化することが通常だが\n",
        "今回はバッチ学習のためいきなりOptimizerの初期化を実施します"
      ],
      "metadata": {
        "id": "LcfYyvXTjRDK"
      }
    },
    {
      "cell_type": "code",
      "source": [
        "\n",
        "losses = []\n",
        "for epoch in range(num_epochs):\n",
        "    optimizer.zero_grad()\n",
        "    output = model(y_seq_t)\n",
        "    loss = criterion(output, y_target_t)\n",
        "    loss.backward()\n",
        "    losses.append(loss.item())\n",
        "    optimizer.step()\n",
        "    if epoch % 10 == 0:\n",
        "        print(\"epoch: {}, loss: {}\".format(epoch, loss.item()))"
      ],
      "metadata": {
        "id": "os8SZLvH9TwF",
        "colab": {
          "base_uri": "https://localhost:8080/"
        },
        "outputId": "bdcd2d71-a42a-42ee-f8b7-124ebba2728e"
      },
      "execution_count": null,
      "outputs": [
        {
          "output_type": "stream",
          "name": "stdout",
          "text": [
            "epoch: 0, loss: 0.32263699173927307\n",
            "epoch: 10, loss: 0.05756764113903046\n",
            "epoch: 20, loss: 0.025073522701859474\n",
            "epoch: 30, loss: 0.02519330009818077\n",
            "epoch: 40, loss: 0.018598133698105812\n"
          ]
        }
      ]
    },
    {
      "cell_type": "code",
      "source": [
        "plt.plot(losses)"
      ],
      "metadata": {
        "id": "Ad0QA5UR41Mv",
        "colab": {
          "base_uri": "https://localhost:8080/",
          "height": 447
        },
        "outputId": "cb82f976-9c18-4fd7-d442-b2f59a667457"
      },
      "execution_count": null,
      "outputs": [
        {
          "output_type": "execute_result",
          "data": {
            "text/plain": [
              "[<matplotlib.lines.Line2D at 0x7a28e3fb76a0>]"
            ]
          },
          "metadata": {},
          "execution_count": 20
        },
        {
          "output_type": "display_data",
          "data": {
            "text/plain": [
              "<Figure size 640x480 with 1 Axes>"
            ],
            "image/png": "[encoded data removed]"
          },
          "metadata": {}
        }
      ]
    },
    {
      "cell_type": "code",
      "source": [
        "y_seq_test_t = torch.FloatTensor(y_seq_test)\n",
        "y_seq_test_t = y_seq_test_t.permute(1,0)\n",
        "y_seq_test_t = y_seq_test_t.unsqueeze(dim=-1)"
      ],
      "metadata": {
        "id": "Ra-c3hr0E_9z"
      },
      "execution_count": null,
      "outputs": []
    },
    {
      "cell_type": "code",
      "source": [
        "y_seq_test_t.size()"
      ],
      "metadata": {
        "colab": {
          "base_uri": "https://localhost:8080/"
        },
        "id": "0fI08Ia4Jsal",
        "outputId": "2153293c-943a-434e-9515-db970728dbb0"
      },
      "execution_count": null,
      "outputs": [
        {
          "output_type": "execute_result",
          "data": {
            "text/plain": [
              "torch.Size([5, 2, 1])"
            ]
          },
          "metadata": {},
          "execution_count": 22
        }
      ]
    },
    {
      "cell_type": "code",
      "source": [
        "#print(y_seq_test_t)"
      ],
      "metadata": {
        "id": "ocfC_uY-Uxxq"
      },
      "execution_count": null,
      "outputs": []
    },
    {
      "cell_type": "code",
      "source": [
        "y_pred = model(y_seq_test_t)"
      ],
      "metadata": {
        "id": "z35aM1IDHNdl"
      },
      "execution_count": null,
      "outputs": []
    },
    {
      "cell_type": "code",
      "source": [
        "plt.plot(x,y)\n",
        "plt.plot(np.arange(allsize-num_test,allsize),y_pred.detach())\n",
        "plt.xlim([allsize-num_test*10,allsize+num_test])"
      ],
      "metadata": {
        "id": "P_z2nC4fHUde",
        "colab": {
          "base_uri": "https://localhost:8080/",
          "height": 447
        },
        "outputId": "bd17fa00-f1a6-42d8-b47e-b5be389bfbfd"
      },
      "execution_count": null,
      "outputs": [
        {
          "output_type": "execute_result",
          "data": {
            "text/plain": [
              "(754.0, 776.0)"
            ]
          },
          "metadata": {},
          "execution_count": 25
        },
        {
          "output_type": "display_data",
          "data": {
            "text/plain": [
              "<Figure size 640x480 with 1 Axes>"
            ],
            "image/png": "[encoded data removed]"
          },
          "metadata": {}
        }
      ]
    },
    {
      "cell_type": "code",
      "source": [
        "print(y[-5:])"
      ],
      "metadata": {
        "id": "2kIIgCHVHlAm",
        "colab": {
          "base_uri": "https://localhost:8080/"
        },
        "outputId": "d0af6ba0-9462-4334-c4cf-8d04f892799f"
      },
      "execution_count": null,
      "outputs": [
        {
          "output_type": "stream",
          "name": "stdout",
          "text": [
            "[0.24689438 0.24894823 0.27438962 0.276576   0.26233145]\n"
          ]
        }
      ]
    },
    {
      "cell_type": "code",
      "source": [],
      "metadata": {
        "id": "EEcJUQBDXxJy"
      },
      "execution_count": null,
      "outputs": []
    },
    {
      "cell_type": "markdown",
      "source": [
        "予測"
      ],
      "metadata": {
        "id": "Kt_Q_vjdq9_b"
      }
    },
    {
      "cell_type": "code",
      "source": [
        "input_sequence.size()"
      ],
      "metadata": {
        "colab": {
          "base_uri": "https://localhost:8080/",
          "height": 141
        },
        "id": "pmw3WEd5so6I",
        "outputId": "0a7cd653-1e74-4eb0-9ec4-306b9ab7aa52"
      },
      "execution_count": null,
      "outputs": [
        {
          "output_type": "error",
          "ename": "NameError",
          "evalue": "name 'input_sequence' is not defined",
          "traceback": [
            "\u001b[0;31m---------------------------------------------------------------------------\u001b[0m",
            "\u001b[0;31mNameError\u001b[0m                                 Traceback (most recent call last)",
            "\u001b[0;32m<ipython-input-27-019236feea48>\u001b[0m in \u001b[0;36m<cell line: 1>\u001b[0;34m()\u001b[0m\n\u001b[0;32m----> 1\u001b[0;31m \u001b[0minput_sequence\u001b[0m\u001b[0;34m.\u001b[0m\u001b[0msize\u001b[0m\u001b[0;34m(\u001b[0m\u001b[0;34m)\u001b[0m\u001b[0;34m\u001b[0m\u001b[0;34m\u001b[0m\u001b[0m\n\u001b[0m",
            "\u001b[0;31mNameError\u001b[0m: name 'input_sequence' is not defined"
          ]
        }
      ]
    },
    {
      "cell_type": "code",
      "source": [
        "# 予測 1日予測→入力→予測→入力→予測を繰り返して、任意の期間を予測する\n",
        "\n",
        "predictions = []\n",
        "with torch.no_grad():\n",
        "    input_sequence = y_seq_test_t[:, -seq_length:, :]\n",
        "    print(input_sequence)\n",
        "    for i in range(num_test):\n",
        "        output = model(input_sequence)\n",
        "        prediction = output[-1].item()  # 最後の時点での予測値を取得\n",
        "        predictions.append(prediction)\n",
        "        # 前の予測結果を次の入力として使用\n",
        "        new_input = torch.FloatTensor([[prediction]])\n",
        "        print(new_input.size())\n",
        "        print(new_input)\n",
        "        #input_sequence = torch.cat((input_sequence[:, 1:, :], new_input), dim=1)\n",
        "\n",
        "# 予測結果の逆正規化\n",
        "predictions = scaler.inverse_transform(np.array(predictions).reshape(-1, 1))\n",
        "\n",
        "# 予測結果の出力\n",
        "#print(\"Predicted closing prices for 2024-03-04 to 2024-03-05:\")\n",
        "print(predictions)\n"
      ],
      "metadata": {
        "id": "lqCXdZSDq_uV"
      },
      "execution_count": null,
      "outputs": []
    },
    {
      "cell_type": "code",
      "source": [
        "### 毎日1日毎の予測を実施"
      ],
      "metadata": {
        "id": "m6MJPsi-CWoy"
      },
      "execution_count": null,
      "outputs": []
    },
    {
      "cell_type": "code",
      "source": [
        "import numpy as np\n",
        "\n",
        "# 予測データを格納するリスト\n",
        "pred_data = []\n",
        "\n",
        "# 予測対象の日付\n",
        "target_date = '2024-02-01'\n",
        "\n",
        "# 予測対象の日付のインデックスを取得\n",
        "target_index = np.where(y.index == target_date)[0][0]\n",
        "\n",
        "# 予測データの生成と格納\n",
        "for i in range(num_test):\n",
        "    pred_data_temp = []\n",
        "    for j in range(seq_length):\n",
        "        pred_data_temp.append([scaled_data[target_index - seq_length + j + i, 0], scaled_data[target_index - seq_length + j + i + 1, 0]])\n",
        "    pred_data.append(pred_data_temp)\n",
        "\n",
        "# モデルを使って予測を行い、結果を格納\n",
        "for i in range(num_test):\n",
        "    pred_temp = model(pred_data[i])\n",
        "    pred_data[i].append([scaled_data[target_index + i, 0], pred_temp])\n",
        "\n",
        "# 結果の表示\n",
        "for i in range(num_test):\n",
        "    print(f\"2024-02-0{i+2}の予測結果: {scaler.inverse_transform(np.array(pred_data[i])[:, -1].reshape(-1, 1)).flatten()[seq_length]}\")\n"
      ],
      "metadata": {
        "id": "Mtjd-HqRs4JR",
        "colab": {
          "base_uri": "https://localhost:8080/",
          "height": 211
        },
        "outputId": "cf0ff78a-caaf-455a-df38-ad65dae1fb93"
      },
      "execution_count": null,
      "outputs": [
        {
          "output_type": "error",
          "ename": "AttributeError",
          "evalue": "'numpy.ndarray' object has no attribute 'index'",
          "traceback": [
            "\u001b[0;31m---------------------------------------------------------------------------\u001b[0m",
            "\u001b[0;31mAttributeError\u001b[0m                            Traceback (most recent call last)",
            "\u001b[0;32m<ipython-input-28-ebc724ff9283>\u001b[0m in \u001b[0;36m<cell line: 10>\u001b[0;34m()\u001b[0m\n\u001b[1;32m      8\u001b[0m \u001b[0;34m\u001b[0m\u001b[0m\n\u001b[1;32m      9\u001b[0m \u001b[0;31m# 予測対象の日付のインデックスを取得\u001b[0m\u001b[0;34m\u001b[0m\u001b[0;34m\u001b[0m\u001b[0m\n\u001b[0;32m---> 10\u001b[0;31m \u001b[0mtarget_index\u001b[0m \u001b[0;34m=\u001b[0m \u001b[0mnp\u001b[0m\u001b[0;34m.\u001b[0m\u001b[0mwhere\u001b[0m\u001b[0;34m(\u001b[0m\u001b[0my\u001b[0m\u001b[0;34m.\u001b[0m\u001b[0mindex\u001b[0m \u001b[0;34m==\u001b[0m \u001b[0mtarget_date\u001b[0m\u001b[0;34m)\u001b[0m\u001b[0;34m[\u001b[0m\u001b[0;36m0\u001b[0m\u001b[0;34m]\u001b[0m\u001b[0;34m[\u001b[0m\u001b[0;36m0\u001b[0m\u001b[0;34m]\u001b[0m\u001b[0;34m\u001b[0m\u001b[0;34m\u001b[0m\u001b[0m\n\u001b[0m\u001b[1;32m     11\u001b[0m \u001b[0;34m\u001b[0m\u001b[0m\n\u001b[1;32m     12\u001b[0m \u001b[0;31m# 予測データの生成と格納\u001b[0m\u001b[0;34m\u001b[0m\u001b[0;34m\u001b[0m\u001b[0m\n",
            "\u001b[0;31mAttributeError\u001b[0m: 'numpy.ndarray' object has no attribute 'index'"
          ]
        }
      ]
    },
    {
      "cell_type": "code",
      "source": [],
      "metadata": {
        "id": "wlSN9GQzDH4G"
      },
      "execution_count": null,
      "outputs": []
    }
  ]
}